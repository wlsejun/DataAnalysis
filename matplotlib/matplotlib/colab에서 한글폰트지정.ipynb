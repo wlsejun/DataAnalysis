{
  "nbformat": 4,
  "nbformat_minor": 0,
  "metadata": {
    "colab": {
      "name": "matplotlib-00-한글폰트사용-실습",
      "provenance": [],
      "collapsed_sections": []
    },
    "kernelspec": {
      "name": "python3",
      "display_name": "Python 3"
    }
  },
  "cells": [
    {
      "cell_type": "code",
      "metadata": {
        "id": "EhBeOJ9o1Stx",
        "colab_type": "code",
        "colab": {}
      },
      "source": [
        "import matplotlib.pyplot as plt\n",
        "import pandas as pd\n",
        "import numpy as np"
      ],
      "execution_count": 0,
      "outputs": []
    },
    {
      "cell_type": "markdown",
      "metadata": {
        "id": "6TjaGr_nO4I5",
        "colab_type": "text"
      },
      "source": [
        "## 샘플데이터"
      ]
    },
    {
      "cell_type": "markdown",
      "metadata": {
        "id": "bUzjuFqEO367",
        "colab_type": "text"
      },
      "source": [
        "[민간 아파트 동향 (clean)](https://bit.ly/ds-house-price-clean)"
      ]
    },
    {
      "cell_type": "markdown",
      "metadata": {
        "id": "biPsCw_IO8ma",
        "colab_type": "text"
      },
      "source": [
        "## 데이터프레임 로드"
      ]
    },
    {
      "cell_type": "code",
      "metadata": {
        "id": "LBFCBXSBN3ri",
        "colab_type": "code",
        "colab": {}
      },
      "source": [
        "df = pd.read_csv('https://bit.ly/ds-house-price-clean')\n",
        "df"
      ],
      "execution_count": 0,
      "outputs": []
    },
    {
      "cell_type": "code",
      "metadata": {
        "id": "_nnqRVErO-0Q",
        "colab_type": "code",
        "colab": {}
      },
      "source": [
        "df.plot()"
      ],
      "execution_count": 0,
      "outputs": []
    },
    {
      "cell_type": "markdown",
      "metadata": {
        "id": "rE4nYURROaAQ",
        "colab_type": "text"
      },
      "source": [
        "## 한글 폰트 깨짐 현상 해결방법"
      ]
    },
    {
      "cell_type": "markdown",
      "metadata": {
        "id": "FKgJccxyOf7p",
        "colab_type": "text"
      },
      "source": [
        "### STEP 1. 아래 코드를 실행합니다."
      ]
    },
    {
      "cell_type": "code",
      "metadata": {
        "id": "jUHEXX7UOZxJ",
        "colab_type": "code",
        "colab": {}
      },
      "source": [
        "!sudo apt-get install -y fonts-nanum\n",
        "!sudo fc-cache -fv\n",
        "!rm ~/.cache/matplotlib -rf"
      ],
      "execution_count": 0,
      "outputs": []
    },
    {
      "cell_type": "markdown",
      "metadata": {
        "id": "IJ0MJ44aOd8K",
        "colab_type": "text"
      },
      "source": [
        "### STEP 2. 상단 메뉴 - 런타임 - 런타임 다시 시작을 클릭"
      ]
    },
    {
      "cell_type": "markdown",
      "metadata": {
        "id": "Cm7e-H95OZp5",
        "colab_type": "text"
      },
      "source": [
        "### STEP 3. 아래 코드를 한 번 더 실행 합니다."
      ]
    },
    {
      "cell_type": "code",
      "metadata": {
        "id": "SdEzcPikOhXR",
        "colab_type": "code",
        "colab": {}
      },
      "source": [
        "import matplotlib.pyplot as plt\n",
        "\n",
        "plt.rc('font', family='NanumBarunGothic') "
      ],
      "execution_count": 0,
      "outputs": []
    },
    {
      "cell_type": "markdown",
      "metadata": {
        "id": "GpQHGh0sOhTS",
        "colab_type": "text"
      },
      "source": [
        "### STEP 4. 필요한 패키지, 데이터 로딩"
      ]
    },
    {
      "cell_type": "code",
      "metadata": {
        "id": "UI7OSOnmOhPZ",
        "colab_type": "code",
        "colab": {}
      },
      "source": [
        "import pandas as pd\n",
        "import numpy as np"
      ],
      "execution_count": 0,
      "outputs": []
    },
    {
      "cell_type": "code",
      "metadata": {
        "id": "_anRBsfnOhK5",
        "colab_type": "code",
        "colab": {}
      },
      "source": [
        "df = pd.read_csv('https://bit.ly/ds-house-price-clean')"
      ],
      "execution_count": 0,
      "outputs": []
    },
    {
      "cell_type": "code",
      "metadata": {
        "id": "doBAOEaiOhFI",
        "colab_type": "code",
        "colab": {}
      },
      "source": [
        "df.plot()"
      ],
      "execution_count": 0,
      "outputs": []
    },
    {
      "cell_type": "markdown",
      "metadata": {
        "id": "gGoGYCnfOr9I",
        "colab_type": "text"
      },
      "source": [
        "### STEP 5. Graph 사이즈 키우는 옵션"
      ]
    },
    {
      "cell_type": "code",
      "metadata": {
        "id": "OSkPQVMpOsGg",
        "colab_type": "code",
        "colab": {}
      },
      "source": [
        "plt.rcParams[\"figure.figsize\"] = (12, 9)"
      ],
      "execution_count": 0,
      "outputs": []
    }
  ]
}