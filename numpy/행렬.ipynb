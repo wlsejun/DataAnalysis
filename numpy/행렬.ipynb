{
  "cells": [
    {
      "cell_type": "code",
      "execution_count": 1,
      "metadata": {
        "colab": {},
        "colab_type": "code",
        "id": "U7s6AtWoNKFW"
      },
      "outputs": [],
      "source": [
        "import numpy as np"
      ]
    },
    {
      "cell_type": "markdown",
      "metadata": {
        "colab_type": "text",
        "id": "J-4ydWDzNURb"
      },
      "source": [
        "## 1. 행렬 - 덧셈"
      ]
    },
    {
      "cell_type": "markdown",
      "metadata": {
        "colab_type": "text",
        "id": "3-0o_diBmzgD"
      },
      "source": [
        "### 1-1. 덧셈"
      ]
    },
    {
      "cell_type": "code",
      "execution_count": 2,
      "metadata": {
        "colab": {},
        "colab_type": "code",
        "id": "Lh3y_RbfiPni"
      },
      "outputs": [],
      "source": [
        "a = np.array([[1, 2, 3], \n",
        "              [2, 3, 4]])"
      ]
    },
    {
      "cell_type": "code",
      "execution_count": 3,
      "metadata": {
        "colab": {},
        "colab_type": "code",
        "id": "vd3Iw_g-iV-X"
      },
      "outputs": [],
      "source": [
        "b = np.array([[3, 4, 5], \n",
        "              [1, 2, 3]])"
      ]
    },
    {
      "cell_type": "code",
      "execution_count": 4,
      "metadata": {
        "colab": {
          "base_uri": "https://localhost:8080/",
          "height": 53
        },
        "colab_type": "code",
        "id": "X4yUimJnipFS",
        "outputId": "61c4a848-5099-4304-d015-71ce9b9b8969"
      },
      "outputs": [
        {
          "data": {
            "text/plain": [
              "array([[4, 6, 8],\n",
              "       [3, 5, 7]])"
            ]
          },
          "execution_count": 4,
          "metadata": {},
          "output_type": "execute_result"
        }
      ],
      "source": [
        "a + b\n"
      ]
    },
    {
      "cell_type": "code",
      "execution_count": 5,
      "metadata": {
        "colab": {},
        "colab_type": "code",
        "id": "CAUnCt2AiqC8"
      },
      "outputs": [],
      "source": [
        "a = np.array([[1, 2, 3], \n",
        "              [2, 3, 4]])"
      ]
    },
    {
      "cell_type": "code",
      "execution_count": 6,
      "metadata": {
        "colab": {},
        "colab_type": "code",
        "id": "SlM2GcNXi2f9"
      },
      "outputs": [],
      "source": [
        "b = np.array([[1, 2],\n",
        "              [3, 4],  \n",
        "              [5, 6]])"
      ]
    },
    {
      "cell_type": "code",
      "execution_count": 7,
      "metadata": {
        "colab": {
          "base_uri": "https://localhost:8080/",
          "height": 172
        },
        "colab_type": "code",
        "id": "Q-igN6O8i_HX",
        "outputId": "a189ba76-04eb-4981-9747-3bf01cd3c746"
      },
      "outputs": [
        {
          "ename": "ValueError",
          "evalue": "operands could not be broadcast together with shapes (2,3) (3,2) ",
          "output_type": "error",
          "traceback": [
            "\u001b[0;31m---------------------------------------------------------------------------\u001b[0m",
            "\u001b[0;31mValueError\u001b[0m                                Traceback (most recent call last)",
            "\u001b[1;32m/Users/worldlight/Desktop/DataAnalysis/numpy/행렬.ipynb Cell 9\u001b[0m line \u001b[0;36m1\n\u001b[0;32m----> <a href='vscode-notebook-cell:/Users/worldlight/Desktop/DataAnalysis/numpy/%ED%96%89%EB%A0%AC.ipynb#X11sZmlsZQ%3D%3D?line=0'>1</a>\u001b[0m a \u001b[39m+\u001b[39;49m b\n",
            "\u001b[0;31mValueError\u001b[0m: operands could not be broadcast together with shapes (2,3) (3,2) "
          ]
        }
      ],
      "source": [
        "a + b"
      ]
    },
    {
      "cell_type": "markdown",
      "metadata": {
        "colab_type": "text",
        "id": "E3vTxFshmwWE"
      },
      "source": [
        "### 1-2. Sum"
      ]
    },
    {
      "cell_type": "code",
      "execution_count": 8,
      "metadata": {
        "colab": {},
        "colab_type": "code",
        "id": "bqPASSvum5wg"
      },
      "outputs": [],
      "source": [
        "a = np.array([[1, 2, 3], \n",
        "              [2, 3, 4]])"
      ]
    },
    {
      "cell_type": "code",
      "execution_count": 9,
      "metadata": {
        "colab": {
          "base_uri": "https://localhost:8080/",
          "height": 35
        },
        "colab_type": "code",
        "id": "jeoEBHLdjYug",
        "outputId": "7e969564-140f-4758-ba3b-d05125c61381"
      },
      "outputs": [
        {
          "data": {
            "text/plain": [
              "array([3, 5, 7])"
            ]
          },
          "execution_count": 9,
          "metadata": {},
          "output_type": "execute_result"
        }
      ],
      "source": [
        "np.sum(a, axis=0)\n"
      ]
    },
    {
      "cell_type": "code",
      "execution_count": 10,
      "metadata": {
        "colab": {
          "base_uri": "https://localhost:8080/",
          "height": 35
        },
        "colab_type": "code",
        "id": "eQWg_pktjY3O",
        "outputId": "20d7519d-1fa0-4373-a7c6-731736e8a6e8"
      },
      "outputs": [
        {
          "data": {
            "text/plain": [
              "array([6, 9])"
            ]
          },
          "execution_count": 10,
          "metadata": {},
          "output_type": "execute_result"
        }
      ],
      "source": [
        "np.sum(a, axis=1)"
      ]
    },
    {
      "cell_type": "markdown",
      "metadata": {
        "colab_type": "text",
        "id": "2i5mj3kPitwV"
      },
      "source": [
        "## 2. 행렬 - 뺄셈"
      ]
    },
    {
      "cell_type": "code",
      "execution_count": 11,
      "metadata": {
        "colab": {},
        "colab_type": "code",
        "id": "KQ5__Wapit2B"
      },
      "outputs": [],
      "source": [
        "a = np.array([[1, 2, 3], \n",
        "              [2, 3, 4]])"
      ]
    },
    {
      "cell_type": "code",
      "execution_count": 12,
      "metadata": {
        "colab": {},
        "colab_type": "code",
        "id": "WaQM8NF_ixTx"
      },
      "outputs": [],
      "source": [
        "b = np.array([[3, 4, 5], \n",
        "              [1, 2, 3]])"
      ]
    },
    {
      "cell_type": "code",
      "execution_count": 13,
      "metadata": {
        "colab": {
          "base_uri": "https://localhost:8080/",
          "height": 53
        },
        "colab_type": "code",
        "id": "2G9YGVpviyvI",
        "outputId": "6f917d81-3440-4c7c-c5d9-7d9110d98ca9"
      },
      "outputs": [
        {
          "data": {
            "text/plain": [
              "array([[-2, -2, -2],\n",
              "       [ 1,  1,  1]])"
            ]
          },
          "execution_count": 13,
          "metadata": {},
          "output_type": "execute_result"
        }
      ],
      "source": [
        "a - b\n"
      ]
    },
    {
      "cell_type": "code",
      "execution_count": 14,
      "metadata": {
        "colab": {},
        "colab_type": "code",
        "id": "emOen6CKizae"
      },
      "outputs": [],
      "source": [
        "a = np.array([[1, 2, 3], \n",
        "              [2, 3, 4]])"
      ]
    },
    {
      "cell_type": "code",
      "execution_count": 15,
      "metadata": {
        "colab": {},
        "colab_type": "code",
        "id": "FigY31D3jKIr"
      },
      "outputs": [],
      "source": [
        "b = np.array([[1, 2],\n",
        "              [3, 4],  \n",
        "              [5, 6]])"
      ]
    },
    {
      "cell_type": "code",
      "execution_count": 16,
      "metadata": {
        "colab": {
          "base_uri": "https://localhost:8080/",
          "height": 172
        },
        "colab_type": "code",
        "id": "KzFtRreDjLBR",
        "outputId": "c4099563-02c3-4d66-c0f3-959f933ab7a3"
      },
      "outputs": [
        {
          "ename": "ValueError",
          "evalue": "operands could not be broadcast together with shapes (2,3) (3,2) ",
          "output_type": "error",
          "traceback": [
            "\u001b[0;31m---------------------------------------------------------------------------\u001b[0m",
            "\u001b[0;31mValueError\u001b[0m                                Traceback (most recent call last)",
            "\u001b[1;32m/Users/worldlight/Desktop/DataAnalysis/numpy/행렬.ipynb Cell 20\u001b[0m line \u001b[0;36m1\n\u001b[0;32m----> <a href='vscode-notebook-cell:/Users/worldlight/Desktop/DataAnalysis/numpy/%ED%96%89%EB%A0%AC.ipynb#X25sZmlsZQ%3D%3D?line=0'>1</a>\u001b[0m a \u001b[39m-\u001b[39;49m b\n",
            "\u001b[0;31mValueError\u001b[0m: operands could not be broadcast together with shapes (2,3) (3,2) "
          ]
        }
      ],
      "source": [
        "a - b"
      ]
    },
    {
      "cell_type": "markdown",
      "metadata": {
        "colab_type": "text",
        "id": "WtLrPvkejNYy"
      },
      "source": [
        "## 3. 곱셈"
      ]
    },
    {
      "cell_type": "markdown",
      "metadata": {
        "colab_type": "text",
        "id": "8nS0zT3iawVm"
      },
      "source": [
        "일반 곱셈"
      ]
    },
    {
      "cell_type": "code",
      "execution_count": 17,
      "metadata": {
        "colab": {},
        "colab_type": "code",
        "id": "c77DVAVhjXU7"
      },
      "outputs": [],
      "source": [
        "a = np.array([[1, 2, 3], \n",
        "              [2, 3, 4]])"
      ]
    },
    {
      "cell_type": "code",
      "execution_count": 18,
      "metadata": {
        "colab": {},
        "colab_type": "code",
        "id": "odd96IHRYewH"
      },
      "outputs": [],
      "source": [
        "b = np.array([[3, 4, 5], \n",
        "              [1, 2, 3]])"
      ]
    },
    {
      "cell_type": "code",
      "execution_count": 19,
      "metadata": {
        "colab": {
          "base_uri": "https://localhost:8080/",
          "height": 35
        },
        "colab_type": "code",
        "id": "BjqbDFGKYf_9",
        "outputId": "21073d92-5ca1-4163-e1ce-f6c6f384e71d"
      },
      "outputs": [
        {
          "data": {
            "text/plain": [
              "((2, 3), (2, 3))"
            ]
          },
          "execution_count": 19,
          "metadata": {},
          "output_type": "execute_result"
        }
      ],
      "source": [
        "a.shape, b.shape"
      ]
    },
    {
      "cell_type": "code",
      "execution_count": 20,
      "metadata": {
        "colab": {
          "base_uri": "https://localhost:8080/",
          "height": 53
        },
        "colab_type": "code",
        "id": "RZzSCNDDYlFU",
        "outputId": "895615fd-6e0a-4e11-87db-63a976dd1dc7"
      },
      "outputs": [
        {
          "data": {
            "text/plain": [
              "array([[ 3,  8, 15],\n",
              "       [ 2,  6, 12]])"
            ]
          },
          "execution_count": 20,
          "metadata": {},
          "output_type": "execute_result"
        }
      ],
      "source": [
        "a * b\n"
      ]
    },
    {
      "cell_type": "markdown",
      "metadata": {
        "colab_type": "text",
        "id": "LsHFs8ztapqx"
      },
      "source": [
        "단순 곱셈과 dot product는 다릅니다. 이점 유의하세요!"
      ]
    },
    {
      "cell_type": "code",
      "execution_count": 21,
      "metadata": {
        "colab": {},
        "colab_type": "code",
        "id": "CmNwxLQ9aoCb"
      },
      "outputs": [],
      "source": [
        "a = np.array([[1, 2, 3], \n",
        "              [2, 3, 4]])"
      ]
    },
    {
      "cell_type": "code",
      "execution_count": 22,
      "metadata": {
        "colab": {},
        "colab_type": "code",
        "id": "hdiVhVBycCDF"
      },
      "outputs": [],
      "source": [
        "b = np.array([[3, 4, 5], \n",
        "              [1, 2, 3]])"
      ]
    },
    {
      "cell_type": "code",
      "execution_count": 23,
      "metadata": {
        "colab": {},
        "colab_type": "code",
        "id": "4KcFjtIMkEO1"
      },
      "outputs": [],
      "source": [
        "b = np.array([[1, 2],\n",
        "              [3, 4],  \n",
        "              [5, 6]])"
      ]
    },
    {
      "cell_type": "code",
      "execution_count": 24,
      "metadata": {
        "colab": {
          "base_uri": "https://localhost:8080/",
          "height": 172
        },
        "colab_type": "code",
        "id": "qRaVZEkTkvY-",
        "outputId": "68ecf305-257d-4f43-df65-c923d22a9d0a"
      },
      "outputs": [
        {
          "ename": "ValueError",
          "evalue": "operands could not be broadcast together with shapes (2,3) (3,2) ",
          "output_type": "error",
          "traceback": [
            "\u001b[0;31m---------------------------------------------------------------------------\u001b[0m",
            "\u001b[0;31mValueError\u001b[0m                                Traceback (most recent call last)",
            "\u001b[1;32m/Users/worldlight/Desktop/DataAnalysis/numpy/행렬.ipynb Cell 31\u001b[0m line \u001b[0;36m1\n\u001b[0;32m----> <a href='vscode-notebook-cell:/Users/worldlight/Desktop/DataAnalysis/numpy/%ED%96%89%EB%A0%AC.ipynb#X42sZmlsZQ%3D%3D?line=0'>1</a>\u001b[0m a \u001b[39m*\u001b[39;49m b\n",
            "\u001b[0;31mValueError\u001b[0m: operands could not be broadcast together with shapes (2,3) (3,2) "
          ]
        }
      ],
      "source": [
        "a * b"
      ]
    },
    {
      "cell_type": "code",
      "execution_count": 25,
      "metadata": {
        "colab": {},
        "colab_type": "code",
        "id": "IjLq85LZcaAw"
      },
      "outputs": [],
      "source": [
        "a = np.array([[1, 2, 3],\n",
        "              [1, 2, 3], \n",
        "              [2, 3, 4]])"
      ]
    },
    {
      "cell_type": "code",
      "execution_count": 26,
      "metadata": {
        "colab": {},
        "colab_type": "code",
        "id": "yjMc_ChccZ5O"
      },
      "outputs": [],
      "source": [
        "b = np.array([[1, 2],\n",
        "              [3, 4],  \n",
        "              [5, 6]])"
      ]
    },
    {
      "cell_type": "code",
      "execution_count": 27,
      "metadata": {
        "colab": {
          "base_uri": "https://localhost:8080/",
          "height": 35
        },
        "colab_type": "code",
        "id": "HfG4xgYpcZkr",
        "outputId": "6110c348-0152-46af-9793-4f6a0b7781df"
      },
      "outputs": [
        {
          "data": {
            "text/plain": [
              "((3, 3), (3, 2))"
            ]
          },
          "execution_count": 27,
          "metadata": {},
          "output_type": "execute_result"
        }
      ],
      "source": [
        "a.shape, b.shape"
      ]
    },
    {
      "cell_type": "code",
      "execution_count": 28,
      "metadata": {
        "colab": {
          "base_uri": "https://localhost:8080/",
          "height": 71
        },
        "colab_type": "code",
        "id": "EP3l6ATCkF53",
        "outputId": "9e0b4fd9-26aa-409d-8e31-ed2034e5e3a5"
      },
      "outputs": [
        {
          "data": {
            "text/plain": [
              "array([[22, 28],\n",
              "       [22, 28],\n",
              "       [31, 40]])"
            ]
          },
          "execution_count": 28,
          "metadata": {},
          "output_type": "execute_result"
        }
      ],
      "source": [
        "np.dot(a, b)\n"
      ]
    },
    {
      "cell_type": "code",
      "execution_count": 29,
      "metadata": {
        "colab": {
          "base_uri": "https://localhost:8080/",
          "height": 71
        },
        "colab_type": "code",
        "id": "REB-cPUCk0Tm",
        "outputId": "ac15f16a-e1f5-4ca8-cc26-20a0e7964ed4"
      },
      "outputs": [
        {
          "data": {
            "text/plain": [
              "array([[22, 28],\n",
              "       [22, 28],\n",
              "       [31, 40]])"
            ]
          },
          "execution_count": 29,
          "metadata": {},
          "output_type": "execute_result"
        }
      ],
      "source": [
        "a.dot(b)"
      ]
    },
    {
      "cell_type": "code",
      "execution_count": null,
      "metadata": {
        "colab": {
          "base_uri": "https://localhost:8080/",
          "height": 35
        },
        "colab_type": "code",
        "id": "ht9KLaDGkJcO",
        "outputId": "7991a1df-9627-4885-d6c9-a7b0fa19bf91"
      },
      "outputs": [
        {
          "data": {
            "text/plain": [
              "22"
            ]
          },
          "execution_count": 30,
          "metadata": {
            "tags": []
          },
          "output_type": "execute_result"
        }
      ],
      "source": [
        "1*1 + 2*3 + 3*5"
      ]
    },
    {
      "cell_type": "code",
      "execution_count": null,
      "metadata": {
        "colab": {
          "base_uri": "https://localhost:8080/",
          "height": 35
        },
        "colab_type": "code",
        "id": "lmbMu2CSkhaB",
        "outputId": "a4c2733e-47cb-476a-ae4f-6bbefc62673b"
      },
      "outputs": [
        {
          "data": {
            "text/plain": [
              "28"
            ]
          },
          "execution_count": 31,
          "metadata": {
            "tags": []
          },
          "output_type": "execute_result"
        }
      ],
      "source": [
        "1*2 + 2*4 + 3*6"
      ]
    }
  ],
  "metadata": {
    "colab": {
      "collapsed_sections": [],
      "name": "ch06-part11~12-numpy연산-실습",
      "provenance": []
    },
    "kernelspec": {
      "display_name": "Python 3",
      "name": "python3"
    },
    "language_info": {
      "codemirror_mode": {
        "name": "ipython",
        "version": 3
      },
      "file_extension": ".py",
      "mimetype": "text/x-python",
      "name": "python",
      "nbconvert_exporter": "python",
      "pygments_lexer": "ipython3",
      "version": "3.10.4"
    }
  },
  "nbformat": 4,
  "nbformat_minor": 0
}
