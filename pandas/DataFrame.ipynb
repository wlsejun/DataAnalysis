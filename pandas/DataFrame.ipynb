{
  "nbformat": 4,
  "nbformat_minor": 0,
  "metadata": {
    "colab": {
      "name": "ch02-part03-데이터전처리-실습예제2-실습",
      "provenance": [],
      "collapsed_sections": []
    },
    "kernelspec": {
      "name": "python3",
      "display_name": "Python 3"
    }
  },
  "cells": [
    {
      "cell_type": "code",
      "metadata": {
        "id": "TQ_Q-hvNd0Tp",
        "colab_type": "code",
        "colab": {}
      },
      "source": [
        "import pandas as pd"
      ],
      "execution_count": 0,
      "outputs": []
    },
    {
      "cell_type": "markdown",
      "metadata": {
        "id": "vjg-CfiE90i8",
        "colab_type": "text"
      },
      "source": [
        "## 실습에 활용한 예제"
      ]
    },
    {
      "cell_type": "markdown",
      "metadata": {
        "id": "y_bvs7qW9csR",
        "colab_type": "text"
      },
      "source": [
        "1. [국내 아이돌 평판지수 (csv)](http://bit.ly/ds-korean-idol)\n",
        "2. [국내 아이돌 연봉, 가족수 (csv)](http://bit.ly/ds-korean-idol-2)"
      ]
    },
    {
      "cell_type": "markdown",
      "metadata": {
        "id": "5EL9J3OF9x0P",
        "colab_type": "text"
      },
      "source": [
        "## DataFrame 로드"
      ]
    },
    {
      "cell_type": "code",
      "metadata": {
        "id": "-ih5zSYh9iFw",
        "colab_type": "code",
        "colab": {}
      },
      "source": [
        "df = pd.read_csv('https://bit.ly/ds-korean-idol')\n",
        "df2 = pd.read_csv('https://bit.ly/ds-korean-idol-2')"
      ],
      "execution_count": 0,
      "outputs": []
    },
    {
      "cell_type": "markdown",
      "metadata": {
        "id": "kbG9XWZD99hX",
        "colab_type": "text"
      },
      "source": [
        "## 1. DataFrame 합치기 (concat)"
      ]
    },
    {
      "cell_type": "markdown",
      "metadata": {
        "id": "SN_KKRly-C_n",
        "colab_type": "text"
      },
      "source": [
        "### 1-1. Row 기준 합치기"
      ]
    },
    {
      "cell_type": "code",
      "metadata": {
        "id": "Wc3nMvwr96AP",
        "colab_type": "code",
        "colab": {}
      },
      "source": [
        "df.head()"
      ],
      "execution_count": 0,
      "outputs": []
    },
    {
      "cell_type": "code",
      "metadata": {
        "id": "bYa-oOUR9iNr",
        "colab_type": "code",
        "colab": {}
      },
      "source": [
        "df_copy = df.copy()"
      ],
      "execution_count": 0,
      "outputs": []
    },
    {
      "cell_type": "code",
      "metadata": {
        "id": "MJeUCs8E9iVZ",
        "colab_type": "code",
        "colab": {}
      },
      "source": [
        "df"
      ],
      "execution_count": 0,
      "outputs": []
    },
    {
      "cell_type": "code",
      "metadata": {
        "id": "Y45KbxjZ9iYz",
        "colab_type": "code",
        "colab": {}
      },
      "source": [
        "df_copy"
      ],
      "execution_count": 0,
      "outputs": []
    },
    {
      "cell_type": "markdown",
      "metadata": {
        "id": "iw48TWIa-Riq",
        "colab_type": "text"
      },
      "source": [
        "row에 합칠 때는 pd.concat에 합칠 데이터프레임을 list로 합쳐줍니다. row 기준으로 합칠 때는 **sort=False 옵션**을 주어 순서가 유지되도록 합니다."
      ]
    },
    {
      "cell_type": "code",
      "metadata": {
        "id": "bA4CKAmy9iSb",
        "colab_type": "code",
        "colab": {}
      },
      "source": [
        "pd.# 코드를 입력해 주세요\n"
      ],
      "execution_count": 0,
      "outputs": []
    },
    {
      "cell_type": "markdown",
      "metadata": {
        "id": "astHcH1N-QPd",
        "colab_type": "text"
      },
      "source": [
        "그런데, index가 꼬였습니다ㅠ reset_index() 로 인덱스를 초기화 해줄 수 있습니다."
      ]
    },
    {
      "cell_type": "code",
      "metadata": {
        "id": "pY8lszmV-pKf",
        "colab_type": "code",
        "colab": {}
      },
      "source": [
        "df_concat = # 코드를 입력해 주세요\n",
        "\n",
        "df_concat"
      ],
      "execution_count": 0,
      "outputs": []
    },
    {
      "cell_type": "code",
      "metadata": {
        "id": "rwW_SROV-pP2",
        "colab_type": "code",
        "colab": {}
      },
      "source": [
        "df_concat.# 코드를 입력해 주세요\n"
      ],
      "execution_count": 0,
      "outputs": []
    },
    {
      "cell_type": "markdown",
      "metadata": {
        "id": "j5TyIv-J-pUC",
        "colab_type": "text"
      },
      "source": [
        "하지만, index라는 column이 추가 됩니다. 그럴때는 **drop=True** 옵션으로 새로 index column이 생성되지 않도록 만들어 줍니다."
      ]
    },
    {
      "cell_type": "code",
      "metadata": {
        "id": "f8rZIc4F_BNm",
        "colab_type": "code",
        "colab": {}
      },
      "source": [
        "df_concat.# 코드를 입력해 주세요\n"
      ],
      "execution_count": 0,
      "outputs": []
    },
    {
      "cell_type": "markdown",
      "metadata": {
        "id": "PIE_4YpL_DPs",
        "colab_type": "text"
      },
      "source": [
        "### 1-2. column 기준으로 합치기"
      ]
    },
    {
      "cell_type": "markdown",
      "metadata": {
        "id": "2tApZkT__LVT",
        "colab_type": "text"
      },
      "source": [
        "이번에는 column 기준으로 횡 방향으로 합치도록 하겠습니다."
      ]
    },
    {
      "cell_type": "code",
      "metadata": {
        "id": "wt_igZDp_Q3Z",
        "colab_type": "code",
        "colab": {}
      },
      "source": [
        "df"
      ],
      "execution_count": 0,
      "outputs": []
    },
    {
      "cell_type": "code",
      "metadata": {
        "id": "9b8XbFV1_Rd3",
        "colab_type": "code",
        "colab": {}
      },
      "source": [
        "df2 = pd.read_csv('https://bit.ly/ds-korean-idol-2')\n",
        "df2"
      ],
      "execution_count": 0,
      "outputs": []
    },
    {
      "cell_type": "markdown",
      "metadata": {
        "id": "wLjS54ZeA5I9",
        "colab_type": "text"
      },
      "source": [
        "column을 기준으로 합치고자 할 때는 **axis=1 옵션**을 부여합니다"
      ]
    },
    {
      "cell_type": "code",
      "metadata": {
        "id": "v-3Hekeq_TI8",
        "colab_type": "code",
        "colab": {}
      },
      "source": [
        "pd.concat([df, df2], axis=1)"
      ],
      "execution_count": 0,
      "outputs": []
    },
    {
      "cell_type": "code",
      "metadata": {
        "id": "Z-DX9C1QiGsD",
        "colab_type": "code",
        "colab": {}
      },
      "source": [
        "df3 = # 코드를 입력해 주세요\n"
      ],
      "execution_count": 0,
      "outputs": []
    },
    {
      "cell_type": "markdown",
      "metadata": {
        "id": "r465u__ziN6B",
        "colab_type": "text"
      },
      "source": [
        "행의 갯수가 맞지 않는 상태에서 column concat"
      ]
    },
    {
      "cell_type": "code",
      "metadata": {
        "id": "6J9aPrJWiN00",
        "colab_type": "code",
        "colab": {}
      },
      "source": [
        "pd.# 코드를 입력해 주세요\n"
      ],
      "execution_count": 0,
      "outputs": []
    },
    {
      "cell_type": "code",
      "metadata": {
        "id": "bpK3MTryiGaw",
        "colab_type": "code",
        "colab": {}
      },
      "source": [
        "df3"
      ],
      "execution_count": 0,
      "outputs": []
    },
    {
      "cell_type": "markdown",
      "metadata": {
        "id": "y3YSA3AVBNv0",
        "colab_type": "text"
      },
      "source": [
        "## 2. DataFrame 병합하기 (merge)"
      ]
    },
    {
      "cell_type": "markdown",
      "metadata": {
        "id": "XPTRQwQyBQxt",
        "colab_type": "text"
      },
      "source": [
        "이전에 봤던 concat과 merge는 단순 합치는 목적과 특정 기준(index)으로 합치느냐에 \n",
        "따라 용도가 다릅니다.\n",
        "\n",
        "* concat: row나 column 기준으로 단순하게 이어 붙히기\n",
        "* merge: 특정 고유한 키(unique id) 값을 기준으로 병합하기"
      ]
    },
    {
      "cell_type": "code",
      "metadata": {
        "id": "4v4-Tza0i7rp",
        "colab_type": "code",
        "colab": {}
      },
      "source": [
        "df = pd.read_csv('https://bit.ly/ds-korean-idol')\n",
        "df2 = pd.read_csv('https://bit.ly/ds-korean-idol-2')"
      ],
      "execution_count": 0,
      "outputs": []
    },
    {
      "cell_type": "code",
      "metadata": {
        "id": "gykIkY7BBkrZ",
        "colab_type": "code",
        "colab": {}
      },
      "source": [
        "df.head()"
      ],
      "execution_count": 0,
      "outputs": []
    },
    {
      "cell_type": "code",
      "metadata": {
        "id": "mxOhdWwABmqM",
        "colab_type": "code",
        "colab": {}
      },
      "source": [
        "df2.head()"
      ],
      "execution_count": 0,
      "outputs": []
    },
    {
      "cell_type": "markdown",
      "metadata": {
        "id": "CUTG5ySPBoQS",
        "colab_type": "text"
      },
      "source": [
        "df와 df2는 **'이름' 이라는 column이 겹침**니다. \n",
        "\n",
        "따라서, 우리는 '이름'을 기준으로 두 DataFrame을 **병합**할 수 있습니다."
      ]
    },
    {
      "cell_type": "markdown",
      "metadata": {
        "id": "lfkvgk-dCDht",
        "colab_type": "text"
      },
      "source": [
        "**pd.merge(left, right, on='기준column', how='left')**\n",
        "\n",
        "* left와 right는 병합할 두 DataFrame을 대입합니다.\n",
        "* on 에는 병합의 기준이 되는 column을 넣어 줍니다.\n",
        "* how 에는 'left', 'right', 'inner', 'outer' 라는 4가지의 병합 방식중 한가지를 택합니다."
      ]
    },
    {
      "cell_type": "markdown",
      "metadata": {
        "id": "c2VEVjKsDACV",
        "colab_type": "text"
      },
      "source": [
        "### 2-1. left, right 방식"
      ]
    },
    {
      "cell_type": "markdown",
      "metadata": {
        "id": "wYoZ8NLpDZpL",
        "colab_type": "text"
      },
      "source": [
        "먼저, 다음과 같이 df2 에서 5개의 데이터를 고의적으로 drop 해주겠습니다."
      ]
    },
    {
      "cell_type": "code",
      "metadata": {
        "id": "zy3L3DWPjXdD",
        "colab_type": "code",
        "colab": {}
      },
      "source": [
        "df2"
      ],
      "execution_count": 0,
      "outputs": []
    },
    {
      "cell_type": "code",
      "metadata": {
        "id": "C0OYK4ZmjZ5b",
        "colab_type": "code",
        "colab": {}
      },
      "source": [
        "df_right = df2.drop([1, 3, 5, 7, 9], axis=0)"
      ],
      "execution_count": 0,
      "outputs": []
    },
    {
      "cell_type": "code",
      "metadata": {
        "id": "1Orhu_CUjeT9",
        "colab_type": "code",
        "colab": {}
      },
      "source": [
        "df_right = df_right.reset_index(drop=True)"
      ],
      "execution_count": 0,
      "outputs": []
    },
    {
      "cell_type": "code",
      "metadata": {
        "id": "GzgmRA7xjmdb",
        "colab_type": "code",
        "colab": {}
      },
      "source": [
        "df_right"
      ],
      "execution_count": 0,
      "outputs": []
    },
    {
      "cell_type": "code",
      "metadata": {
        "id": "GE0Y02nKjoW7",
        "colab_type": "code",
        "colab": {}
      },
      "source": [
        "df_right"
      ],
      "execution_count": 0,
      "outputs": []
    },
    {
      "cell_type": "code",
      "metadata": {
        "id": "59bbZhhnjoQ0",
        "colab_type": "code",
        "colab": {}
      },
      "source": [
        "df"
      ],
      "execution_count": 0,
      "outputs": []
    },
    {
      "cell_type": "code",
      "metadata": {
        "id": "URBzfv4sjnwi",
        "colab_type": "code",
        "colab": {}
      },
      "source": [
        "pd.concat([df, df_right], axis=1)"
      ],
      "execution_count": 0,
      "outputs": []
    },
    {
      "cell_type": "code",
      "metadata": {
        "id": "NCKfJ8EpDYkm",
        "colab_type": "code",
        "colab": {}
      },
      "source": [
        "df"
      ],
      "execution_count": 0,
      "outputs": []
    },
    {
      "cell_type": "markdown",
      "metadata": {
        "id": "Nn_6AeMDDhm1",
        "colab_type": "text"
      },
      "source": [
        "병합할 2개의 DataFrame의 행의 갯수가 맞지 않습니다. 실 사례에서도 충분히 있을 법한 일입니다."
      ]
    },
    {
      "cell_type": "markdown",
      "metadata": {
        "id": "VfSft08CDulT",
        "colab_type": "text"
      },
      "source": [
        "'left' 옵션을 부여하면, left DataFrame에 키 값이 존재하면 해당 데이터를 유지하고, 병합한 right DataFrame의 값으 NaN이 대입 됩니다."
      ]
    },
    {
      "cell_type": "code",
      "metadata": {
        "id": "XtTWfPk_BzeE",
        "colab_type": "code",
        "colab": {}
      },
      "source": [
        "pd.# 코드를 입력해 주세요\n"
      ],
      "execution_count": 0,
      "outputs": []
    },
    {
      "cell_type": "markdown",
      "metadata": {
        "id": "FxdeMY1zB9pa",
        "colab_type": "text"
      },
      "source": [
        "반대로 'right' 옵션을 부여하면 right DataFrame을 기준으로 병합하게 됩니다.\n",
        "\n",
        "현재, left DataFrame이 더 많은 데이터를 보유하고 있으니, right를 기준으로 병합하면 DataFrame 사이즈가 줄어들겠네요."
      ]
    },
    {
      "cell_type": "code",
      "metadata": {
        "id": "QZDaG3XMETfF",
        "colab_type": "code",
        "colab": {}
      },
      "source": [
        "pd.# 코드를 입력해 주세요\n"
      ],
      "execution_count": 0,
      "outputs": []
    },
    {
      "cell_type": "markdown",
      "metadata": {
        "id": "hkRQoYtXEVNL",
        "colab_type": "text"
      },
      "source": [
        "위의 예제에서, right 를 기준으로 병합했기 때문에 DataFrame 사이즈가 줄어들었습니다."
      ]
    },
    {
      "cell_type": "markdown",
      "metadata": {
        "id": "3rATYgkMEeB-",
        "colab_type": "text"
      },
      "source": [
        "### 2-2. inner, outer 방식"
      ]
    },
    {
      "cell_type": "markdown",
      "metadata": {
        "id": "iqIyJTkzEj50",
        "colab_type": "text"
      },
      "source": [
        "* inner 방식은 두 DataFrame에 모두 키 값이 존재하는 경우만 병합합니다.\n",
        "* outer 방식은 하나의 DataFrame에 키 값이 존재하는 경우 모두 병합합니다.\n",
        "* outer 방식에서는 없는 값은 NaN으로 대입됩니다."
      ]
    },
    {
      "cell_type": "code",
      "metadata": {
        "id": "s1vPdKonE4eZ",
        "colab_type": "code",
        "colab": {}
      },
      "source": [
        "df"
      ],
      "execution_count": 0,
      "outputs": []
    },
    {
      "cell_type": "code",
      "metadata": {
        "id": "vEX8CbOWE5QU",
        "colab_type": "code",
        "colab": {}
      },
      "source": [
        "df_right"
      ],
      "execution_count": 0,
      "outputs": []
    },
    {
      "cell_type": "code",
      "metadata": {
        "id": "WmN-zcoAE6vk",
        "colab_type": "code",
        "colab": {}
      },
      "source": [
        "pd.# 코드를 입력해 주세요\n"
      ],
      "execution_count": 0,
      "outputs": []
    },
    {
      "cell_type": "code",
      "metadata": {
        "id": "Ge411NbaFBPv",
        "colab_type": "code",
        "colab": {}
      },
      "source": [
        "pd.# 코드를 입력해 주세요\n"
      ],
      "execution_count": 0,
      "outputs": []
    },
    {
      "cell_type": "markdown",
      "metadata": {
        "id": "xVtCbN--FLoO",
        "colab_type": "text"
      },
      "source": [
        "### 2-3. column명은 다르지만, 동일한 성질의 데이터 인 경우?"
      ]
    },
    {
      "cell_type": "code",
      "metadata": {
        "id": "ERKB_pYoFQa8",
        "colab_type": "code",
        "colab": {}
      },
      "source": [
        "df"
      ],
      "execution_count": 0,
      "outputs": []
    },
    {
      "cell_type": "code",
      "metadata": {
        "id": "enbMTLdGFReH",
        "colab_type": "code",
        "colab": {}
      },
      "source": [
        "df_right"
      ],
      "execution_count": 0,
      "outputs": []
    },
    {
      "cell_type": "code",
      "metadata": {
        "id": "lfzs--yNFSO0",
        "colab_type": "code",
        "colab": {}
      },
      "source": [
        "df_right.columns = ['성함', '연봉', '가족수']"
      ],
      "execution_count": 0,
      "outputs": []
    },
    {
      "cell_type": "code",
      "metadata": {
        "id": "b-sskG0TFX69",
        "colab_type": "code",
        "colab": {}
      },
      "source": [
        "df_right"
      ],
      "execution_count": 0,
      "outputs": []
    },
    {
      "cell_type": "markdown",
      "metadata": {
        "id": "kaJsrd4ZFZZL",
        "colab_type": "text"
      },
      "source": [
        "df와 df_right를 병합하려고 했더니, df에서는 '이름', df_right에서는 '성함'으로 표기되어 **기준이 되는 column을 지정할 수 없습니다**."
      ]
    },
    {
      "cell_type": "markdown",
      "metadata": {
        "id": "dsFKS1msFmBh",
        "colab_type": "text"
      },
      "source": [
        "이럴 때는 left_on, right_on 옵션을 사용합니다."
      ]
    },
    {
      "cell_type": "code",
      "metadata": {
        "id": "9ezcOM3yFsnM",
        "colab_type": "code",
        "colab": {}
      },
      "source": [
        "pd.# 코드를 입력해 주세요\n"
      ],
      "execution_count": 0,
      "outputs": []
    }
  ]
}