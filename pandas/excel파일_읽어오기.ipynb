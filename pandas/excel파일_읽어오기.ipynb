{
  "nbformat": 4,
  "nbformat_minor": 0,
  "metadata": {
    "colab": {
      "name": "ch01-part04-excel파일-읽어오기-실습",
      "provenance": [],
      "collapsed_sections": []
    },
    "kernelspec": {
      "name": "python3",
      "display_name": "Python 3"
    }
  },
  "cells": [
    {
      "cell_type": "code",
      "metadata": {
        "id": "LPcPdO-pvkZv",
        "colab_type": "code",
        "colab": {}
      },
      "source": [
        "import pandas as pd"
      ],
      "execution_count": 0,
      "outputs": []
    },
    {
      "cell_type": "markdown",
      "metadata": {
        "id": "nSR7kWjgwrmp",
        "colab_type": "text"
      },
      "source": [
        "## 실습에 사용할 다운로드 주소"
      ]
    },
    {
      "cell_type": "markdown",
      "metadata": {
        "id": "KAfGMG3Xwvqk",
        "colab_type": "text"
      },
      "source": [
        "[국내 아이돌 브랜드 평판 (excel)](http://bit.ly/ds-korean-idol-excel)"
      ]
    },
    {
      "cell_type": "markdown",
      "metadata": {
        "id": "V-yAafddvp7v",
        "colab_type": "text"
      },
      "source": [
        "## 1. 엑셀 파일 읽어오기"
      ]
    },
    {
      "cell_type": "markdown",
      "metadata": {
        "id": "J6E3xJ1uzGHT",
        "colab_type": "text"
      },
      "source": [
        "엑셀 파일을 읽어 올 때는 **read_excel()** 함수를 사용합니다."
      ]
    },
    {
      "cell_type": "code",
      "metadata": {
        "id": "zH3HQdBGvyll",
        "colab_type": "code",
        "colab": {}
      },
      "source": [
        "from google.colab import drive\n",
        "drive.mount('/content/drive')"
      ],
      "execution_count": 0,
      "outputs": []
    },
    {
      "cell_type": "markdown",
      "metadata": {
        "id": "jmtEJZ3Wpwhi",
        "colab_type": "text"
      },
      "source": [
        ""
      ]
    },
    {
      "cell_type": "code",
      "metadata": {
        "id": "_Rr5-iNHv7oW",
        "colab_type": "code",
        "colab": {}
      },
      "source": [
        "filename = '파일 경로 붙혀넣기'"
      ],
      "execution_count": 0,
      "outputs": []
    },
    {
      "cell_type": "code",
      "metadata": {
        "id": "z-TnzkMwv7FN",
        "colab_type": "code",
        "colab": {}
      },
      "source": [
        "filename = '/content/drive/My Drive/01_fastcampus/ch04-pandas/data/korean-idol.xlsx'"
      ],
      "execution_count": 0,
      "outputs": []
    },
    {
      "cell_type": "code",
      "metadata": {
        "id": "FwXgFPgevsYt",
        "colab_type": "code",
        "colab": {}
      },
      "source": [
        "# 코드를 입력해 주세요\n"
      ],
      "execution_count": 0,
      "outputs": []
    }
  ]
}