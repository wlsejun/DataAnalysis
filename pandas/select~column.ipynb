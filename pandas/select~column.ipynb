{
  "nbformat": 4,
  "nbformat_minor": 0,
  "metadata": {
    "colab": {
      "name": "ch02-part11-데이터전처리-실습예제6-실습",
      "provenance": [],
      "collapsed_sections": []
    },
    "kernelspec": {
      "name": "python3",
      "display_name": "Python 3"
    }
  },
  "cells": [
    {
      "cell_type": "code",
      "metadata": {
        "id": "TJDb6JNg2Qzo",
        "colab_type": "code",
        "colab": {}
      },
      "source": [
        "import pandas as pd"
      ],
      "execution_count": 0,
      "outputs": []
    },
    {
      "cell_type": "markdown",
      "metadata": {
        "id": "HtHnzIJ92bve",
        "colab_type": "text"
      },
      "source": [
        "## 실습에 활용한 예제"
      ]
    },
    {
      "cell_type": "markdown",
      "metadata": {
        "id": "K4lU2VkD2dhO",
        "colab_type": "text"
      },
      "source": [
        "[국내 아이돌 평판지수 (csv)](http://bit.ly/ds-korean-idol)"
      ]
    },
    {
      "cell_type": "markdown",
      "metadata": {
        "id": "k1rqdtaa2gx-",
        "colab_type": "text"
      },
      "source": [
        "## DataFrame 로드"
      ]
    },
    {
      "cell_type": "code",
      "metadata": {
        "id": "IEmDZyF42hTk",
        "colab_type": "code",
        "colab": {}
      },
      "source": [
        "df = pd.read_csv('https://bit.ly/ds-korean-idol')"
      ],
      "execution_count": 0,
      "outputs": []
    },
    {
      "cell_type": "code",
      "metadata": {
        "id": "Mz1h61Ru2iP3",
        "colab_type": "code",
        "colab": {}
      },
      "source": [
        "df"
      ],
      "execution_count": 0,
      "outputs": []
    },
    {
      "cell_type": "markdown",
      "metadata": {
        "id": "2bMdqURV2ini",
        "colab_type": "text"
      },
      "source": [
        "## 1. 데이터 타입별 column 선택 (select_dtypes)"
      ]
    },
    {
      "cell_type": "code",
      "metadata": {
        "id": "XFTyWBFY2iqT",
        "colab_type": "code",
        "colab": {}
      },
      "source": [
        "df.info()"
      ],
      "execution_count": 0,
      "outputs": []
    },
    {
      "cell_type": "markdown",
      "metadata": {
        "id": "OY3gPZ6O21Hz",
        "colab_type": "text"
      },
      "source": [
        "### 1-1. 문자열이 있는 column 만 선택"
      ]
    },
    {
      "cell_type": "code",
      "metadata": {
        "id": "oUVzlfcS2xE6",
        "colab_type": "code",
        "colab": {}
      },
      "source": [
        "# 코드를 입력해 주세요\n"
      ],
      "execution_count": 0,
      "outputs": []
    },
    {
      "cell_type": "code",
      "metadata": {
        "id": "RXzN5p5v2xLw",
        "colab_type": "code",
        "colab": {}
      },
      "source": [
        "df.select_dtypes(exclude='object')"
      ],
      "execution_count": 0,
      "outputs": []
    },
    {
      "cell_type": "markdown",
      "metadata": {
        "id": "eWplbwl32xRa",
        "colab_type": "text"
      },
      "source": [
        "문자열이 포함된 DataFrame의 연산으로 발생되는 Error를 피하기 위해서는..."
      ]
    },
    {
      "cell_type": "code",
      "metadata": {
        "id": "G55gaiNv3LqB",
        "colab_type": "code",
        "colab": {}
      },
      "source": [
        "df + 10"
      ],
      "execution_count": 0,
      "outputs": []
    },
    {
      "cell_type": "code",
      "metadata": {
        "id": "VKHjGmWC3CjW",
        "colab_type": "code",
        "colab": {}
      },
      "source": [
        "df.select_dtypes(include='object') + 10"
      ],
      "execution_count": 0,
      "outputs": []
    },
    {
      "cell_type": "code",
      "metadata": {
        "id": "Wopq7Lv329lW",
        "colab_type": "code",
        "colab": {}
      },
      "source": [
        "df.select_dtypes(exclude='object') + 10"
      ],
      "execution_count": 0,
      "outputs": []
    },
    {
      "cell_type": "code",
      "metadata": {
        "id": "_VhOKNSgdsYw",
        "colab_type": "code",
        "colab": {}
      },
      "source": [
        "num_cols = # 코드를 입력해 주세요\n",
        "\n",
        "obj_cols = # 코드를 입력해 주세요\n"
      ],
      "execution_count": 0,
      "outputs": []
    },
    {
      "cell_type": "code",
      "metadata": {
        "id": "LE1CuxW43BHg",
        "colab_type": "code",
        "colab": {}
      },
      "source": [
        "df[obj_cols]"
      ],
      "execution_count": 0,
      "outputs": []
    },
    {
      "cell_type": "markdown",
      "metadata": {
        "id": "PXRtZOzd3R9p",
        "colab_type": "text"
      },
      "source": [
        "## 2. 원핫인코딩 (One-hot-encoding)"
      ]
    },
    {
      "cell_type": "markdown",
      "metadata": {
        "id": "QHUDXbpP3SFb",
        "colab_type": "text"
      },
      "source": [
        "* 원핫인코딩은 한개의 요소는 True 그리고 나머지 요소는 False로 만들어 주는 기법입니다.\n",
        "* 원핫인코딩을 왜 필요할까요?"
      ]
    },
    {
      "cell_type": "code",
      "metadata": {
        "id": "d9tR9zyUfZvb",
        "colab_type": "code",
        "colab": {}
      },
      "source": [
        "df = pd.read_csv('https://bit.ly/ds-korean-idol')"
      ],
      "execution_count": 0,
      "outputs": []
    },
    {
      "cell_type": "code",
      "metadata": {
        "id": "5d0kyLK93SO8",
        "colab_type": "code",
        "colab": {}
      },
      "source": [
        "df.head()"
      ],
      "execution_count": 0,
      "outputs": []
    },
    {
      "cell_type": "code",
      "metadata": {
        "id": "skvs-RIz32jK",
        "colab_type": "code",
        "colab": {}
      },
      "source": [
        "blood_map = {\n",
        "    'A': 0, \n",
        "    'B': 1,\n",
        "    'AB': 2, \n",
        "    'O': 3,\n",
        "}"
      ],
      "execution_count": 0,
      "outputs": []
    },
    {
      "cell_type": "code",
      "metadata": {
        "id": "R7UNjTHp3wdM",
        "colab_type": "code",
        "colab": {}
      },
      "source": [
        "df['혈액형_code'] = df['혈액형'].map(blood_map)"
      ],
      "execution_count": 0,
      "outputs": []
    },
    {
      "cell_type": "code",
      "metadata": {
        "id": "BvcIs-SR3_N4",
        "colab_type": "code",
        "colab": {}
      },
      "source": [
        "df.head()"
      ],
      "execution_count": 0,
      "outputs": []
    },
    {
      "cell_type": "code",
      "metadata": {
        "id": "KiUrinVC4Jcx",
        "colab_type": "code",
        "colab": {}
      },
      "source": [
        "df['혈액형_code'].value_counts()"
      ],
      "execution_count": 0,
      "outputs": []
    },
    {
      "cell_type": "markdown",
      "metadata": {
        "id": "SK14We7S4MGt",
        "colab_type": "text"
      },
      "source": [
        "* 우리가 만약 df['혈액형_code']를 머신러닝 알고리즘에 그대로 넣어 데이터를 예측하라고 지시한다면, 컴퓨터는 '혈액형_code'안에서 **값들간의 관계를 스스로 형성**하게 됩니다.\n",
        "* 이 상황에서 만약 B형은 1, AB형은 2라는 값을 가지고 있는데, 컴퓨터는 B형 + **AB형 = O형이다라고 잘못 관계**를 맺을 수 있게 됩니다.\n",
        "* 따라서, 우리는 4개의 별도의 column을 형성해주고 1개의 column에는 True 나머지는 모두 False를 넣어 줌으로써 **A, B, AB, O형의 관계는 독립적이다**를 표현해줍니다.\n",
        "* 이를 원핫인코딩이라고 합니다.\n"
      ]
    },
    {
      "cell_type": "code",
      "metadata": {
        "id": "YlJYkb3u5Kic",
        "colab_type": "code",
        "colab": {}
      },
      "source": [
        "df['혈액형_code']"
      ],
      "execution_count": 0,
      "outputs": []
    },
    {
      "cell_type": "code",
      "metadata": {
        "id": "ISCKIG_245XX",
        "colab_type": "code",
        "colab": {}
      },
      "source": [
        "pd.get_dummies(df['혈액형_code'])"
      ],
      "execution_count": 0,
      "outputs": []
    },
    {
      "cell_type": "markdown",
      "metadata": {
        "id": "ENUH3Frj5kQl",
        "colab_type": "text"
      },
      "source": [
        "prefix를 설정하려면?"
      ]
    },
    {
      "cell_type": "code",
      "metadata": {
        "id": "f6D-fGu_5jRK",
        "colab_type": "code",
        "colab": {}
      },
      "source": [
        "# 코드를 입력해 주세요\n"
      ],
      "execution_count": 0,
      "outputs": []
    },
    {
      "cell_type": "markdown",
      "metadata": {
        "id": "35wGEsjD5Ie5",
        "colab_type": "text"
      },
      "source": [
        "나중에 머신러닝 알고리즘으로 발전하기 위해서는 꼭 알아야하는 개념입니다!\n",
        "\n",
        "지금은 원핫인코딩의 개념만 이해하셔도 충분합니다^0^"
      ]
    }
  ]
}