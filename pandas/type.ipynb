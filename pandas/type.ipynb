{
  "cells": [
    {
      "cell_type": "code",
      "execution_count": 1,
      "metadata": {
        "colab": {},
        "colab_type": "code",
        "id": "TJDb6JNg2Qzo"
      },
      "outputs": [],
      "source": [
        "import pandas as pd"
      ]
    },
    {
      "cell_type": "markdown",
      "metadata": {
        "colab_type": "text",
        "id": "HtHnzIJ92bve"
      },
      "source": [
        "## 실습에 활용한 예제"
      ]
    },
    {
      "cell_type": "markdown",
      "metadata": {
        "colab_type": "text",
        "id": "K4lU2VkD2dhO"
      },
      "source": [
        "[국내 아이돌 평판지수 (csv)](http://bit.ly/ds-korean-idol)"
      ]
    },
    {
      "cell_type": "markdown",
      "metadata": {
        "colab_type": "text",
        "id": "k1rqdtaa2gx-"
      },
      "source": [
        "## DataFrame 로드"
      ]
    },
    {
      "cell_type": "code",
      "execution_count": 2,
      "metadata": {
        "colab": {},
        "colab_type": "code",
        "id": "IEmDZyF42hTk"
      },
      "outputs": [],
      "source": [
        "df = pd.read_csv('https://bit.ly/ds-korean-idol')"
      ]
    },
    {
      "cell_type": "code",
      "execution_count": 3,
      "metadata": {
        "colab": {},
        "colab_type": "code",
        "id": "Mz1h61Ru2iP3"
      },
      "outputs": [
        {
          "data": {
            "text/html": [
              "<div>\n",
              "<style scoped>\n",
              "    .dataframe tbody tr th:only-of-type {\n",
              "        vertical-align: middle;\n",
              "    }\n",
              "\n",
              "    .dataframe tbody tr th {\n",
              "        vertical-align: top;\n",
              "    }\n",
              "\n",
              "    .dataframe thead th {\n",
              "        text-align: right;\n",
              "    }\n",
              "</style>\n",
              "<table border=\"1\" class=\"dataframe\">\n",
              "  <thead>\n",
              "    <tr style=\"text-align: right;\">\n",
              "      <th></th>\n",
              "      <th>이름</th>\n",
              "      <th>그룹</th>\n",
              "      <th>소속사</th>\n",
              "      <th>성별</th>\n",
              "      <th>생년월일</th>\n",
              "      <th>키</th>\n",
              "      <th>혈액형</th>\n",
              "      <th>브랜드평판지수</th>\n",
              "    </tr>\n",
              "  </thead>\n",
              "  <tbody>\n",
              "    <tr>\n",
              "      <th>0</th>\n",
              "      <td>지민</td>\n",
              "      <td>방탄소년단</td>\n",
              "      <td>빅히트</td>\n",
              "      <td>남자</td>\n",
              "      <td>1995-10-13</td>\n",
              "      <td>173.6</td>\n",
              "      <td>A</td>\n",
              "      <td>10523260</td>\n",
              "    </tr>\n",
              "    <tr>\n",
              "      <th>1</th>\n",
              "      <td>지드래곤</td>\n",
              "      <td>빅뱅</td>\n",
              "      <td>YG</td>\n",
              "      <td>남자</td>\n",
              "      <td>1988-08-18</td>\n",
              "      <td>177.0</td>\n",
              "      <td>A</td>\n",
              "      <td>9916947</td>\n",
              "    </tr>\n",
              "    <tr>\n",
              "      <th>2</th>\n",
              "      <td>강다니엘</td>\n",
              "      <td>NaN</td>\n",
              "      <td>커넥트</td>\n",
              "      <td>남자</td>\n",
              "      <td>1996-12-10</td>\n",
              "      <td>180.0</td>\n",
              "      <td>A</td>\n",
              "      <td>8273745</td>\n",
              "    </tr>\n",
              "    <tr>\n",
              "      <th>3</th>\n",
              "      <td>뷔</td>\n",
              "      <td>방탄소년단</td>\n",
              "      <td>빅히트</td>\n",
              "      <td>남자</td>\n",
              "      <td>1995-12-30</td>\n",
              "      <td>178.0</td>\n",
              "      <td>AB</td>\n",
              "      <td>8073501</td>\n",
              "    </tr>\n",
              "    <tr>\n",
              "      <th>4</th>\n",
              "      <td>화사</td>\n",
              "      <td>마마무</td>\n",
              "      <td>RBW</td>\n",
              "      <td>여자</td>\n",
              "      <td>1995-07-23</td>\n",
              "      <td>162.1</td>\n",
              "      <td>A</td>\n",
              "      <td>7650928</td>\n",
              "    </tr>\n",
              "    <tr>\n",
              "      <th>5</th>\n",
              "      <td>정국</td>\n",
              "      <td>방탄소년단</td>\n",
              "      <td>빅히트</td>\n",
              "      <td>남자</td>\n",
              "      <td>1997-09-01</td>\n",
              "      <td>178.0</td>\n",
              "      <td>A</td>\n",
              "      <td>5208335</td>\n",
              "    </tr>\n",
              "    <tr>\n",
              "      <th>6</th>\n",
              "      <td>민현</td>\n",
              "      <td>뉴이스트</td>\n",
              "      <td>플레디스</td>\n",
              "      <td>남자</td>\n",
              "      <td>1995-08-09</td>\n",
              "      <td>182.3</td>\n",
              "      <td>O</td>\n",
              "      <td>4989792</td>\n",
              "    </tr>\n",
              "    <tr>\n",
              "      <th>7</th>\n",
              "      <td>소연</td>\n",
              "      <td>아이들</td>\n",
              "      <td>큐브</td>\n",
              "      <td>여자</td>\n",
              "      <td>1998-08-26</td>\n",
              "      <td>NaN</td>\n",
              "      <td>B</td>\n",
              "      <td>4668615</td>\n",
              "    </tr>\n",
              "    <tr>\n",
              "      <th>8</th>\n",
              "      <td>진</td>\n",
              "      <td>방탄소년단</td>\n",
              "      <td>빅히트</td>\n",
              "      <td>남자</td>\n",
              "      <td>1992-12-04</td>\n",
              "      <td>179.2</td>\n",
              "      <td>O</td>\n",
              "      <td>4570308</td>\n",
              "    </tr>\n",
              "    <tr>\n",
              "      <th>9</th>\n",
              "      <td>하성운</td>\n",
              "      <td>핫샷</td>\n",
              "      <td>스타크루이엔티</td>\n",
              "      <td>남자</td>\n",
              "      <td>1994-03-22</td>\n",
              "      <td>167.1</td>\n",
              "      <td>A</td>\n",
              "      <td>4036489</td>\n",
              "    </tr>\n",
              "    <tr>\n",
              "      <th>10</th>\n",
              "      <td>태연</td>\n",
              "      <td>소녀시대</td>\n",
              "      <td>SM</td>\n",
              "      <td>여자</td>\n",
              "      <td>1989-03-09</td>\n",
              "      <td>NaN</td>\n",
              "      <td>A</td>\n",
              "      <td>3918661</td>\n",
              "    </tr>\n",
              "    <tr>\n",
              "      <th>11</th>\n",
              "      <td>차은우</td>\n",
              "      <td>아스트로</td>\n",
              "      <td>판타지오</td>\n",
              "      <td>남자</td>\n",
              "      <td>1997-03-30</td>\n",
              "      <td>183.0</td>\n",
              "      <td>B</td>\n",
              "      <td>3506027</td>\n",
              "    </tr>\n",
              "    <tr>\n",
              "      <th>12</th>\n",
              "      <td>백호</td>\n",
              "      <td>뉴이스트</td>\n",
              "      <td>플레디스</td>\n",
              "      <td>남자</td>\n",
              "      <td>1995-07-21</td>\n",
              "      <td>175.0</td>\n",
              "      <td>AB</td>\n",
              "      <td>3301654</td>\n",
              "    </tr>\n",
              "    <tr>\n",
              "      <th>13</th>\n",
              "      <td>JR</td>\n",
              "      <td>뉴이스트</td>\n",
              "      <td>플레디스</td>\n",
              "      <td>남자</td>\n",
              "      <td>1995-06-08</td>\n",
              "      <td>176.0</td>\n",
              "      <td>O</td>\n",
              "      <td>3274137</td>\n",
              "    </tr>\n",
              "    <tr>\n",
              "      <th>14</th>\n",
              "      <td>슈가</td>\n",
              "      <td>방탄소년단</td>\n",
              "      <td>빅히트</td>\n",
              "      <td>남자</td>\n",
              "      <td>1993-03-09</td>\n",
              "      <td>174.0</td>\n",
              "      <td>O</td>\n",
              "      <td>2925442</td>\n",
              "    </tr>\n",
              "  </tbody>\n",
              "</table>\n",
              "</div>"
            ],
            "text/plain": [
              "      이름     그룹      소속사  성별        생년월일      키 혈액형   브랜드평판지수\n",
              "0     지민  방탄소년단      빅히트  남자  1995-10-13  173.6   A  10523260\n",
              "1   지드래곤     빅뱅       YG  남자  1988-08-18  177.0   A   9916947\n",
              "2   강다니엘    NaN      커넥트  남자  1996-12-10  180.0   A   8273745\n",
              "3      뷔  방탄소년단      빅히트  남자  1995-12-30  178.0  AB   8073501\n",
              "4     화사    마마무      RBW  여자  1995-07-23  162.1   A   7650928\n",
              "5     정국  방탄소년단      빅히트  남자  1997-09-01  178.0   A   5208335\n",
              "6     민현   뉴이스트     플레디스  남자  1995-08-09  182.3   O   4989792\n",
              "7     소연    아이들       큐브  여자  1998-08-26    NaN   B   4668615\n",
              "8      진  방탄소년단      빅히트  남자  1992-12-04  179.2   O   4570308\n",
              "9    하성운     핫샷  스타크루이엔티  남자  1994-03-22  167.1   A   4036489\n",
              "10    태연   소녀시대       SM  여자  1989-03-09    NaN   A   3918661\n",
              "11   차은우   아스트로     판타지오  남자  1997-03-30  183.0   B   3506027\n",
              "12    백호   뉴이스트     플레디스  남자  1995-07-21  175.0  AB   3301654\n",
              "13    JR   뉴이스트     플레디스  남자  1995-06-08  176.0   O   3274137\n",
              "14    슈가  방탄소년단      빅히트  남자  1993-03-09  174.0   O   2925442"
            ]
          },
          "execution_count": 3,
          "metadata": {},
          "output_type": "execute_result"
        }
      ],
      "source": [
        "df"
      ]
    },
    {
      "cell_type": "markdown",
      "metadata": {
        "colab_type": "text",
        "id": "2bMdqURV2ini"
      },
      "source": [
        "## 1. 데이터 타입별 column 선택 (select_dtypes)"
      ]
    },
    {
      "cell_type": "code",
      "execution_count": 4,
      "metadata": {
        "colab": {},
        "colab_type": "code",
        "id": "XFTyWBFY2iqT"
      },
      "outputs": [
        {
          "name": "stdout",
          "output_type": "stream",
          "text": [
            "<class 'pandas.core.frame.DataFrame'>\n",
            "RangeIndex: 15 entries, 0 to 14\n",
            "Data columns (total 8 columns):\n",
            " #   Column   Non-Null Count  Dtype  \n",
            "---  ------   --------------  -----  \n",
            " 0   이름       15 non-null     object \n",
            " 1   그룹       14 non-null     object \n",
            " 2   소속사      15 non-null     object \n",
            " 3   성별       15 non-null     object \n",
            " 4   생년월일     15 non-null     object \n",
            " 5   키        13 non-null     float64\n",
            " 6   혈액형      15 non-null     object \n",
            " 7   브랜드평판지수  15 non-null     int64  \n",
            "dtypes: float64(1), int64(1), object(6)\n",
            "memory usage: 1.1+ KB\n"
          ]
        }
      ],
      "source": [
        "df.info()"
      ]
    },
    {
      "cell_type": "markdown",
      "metadata": {
        "colab_type": "text",
        "id": "OY3gPZ6O21Hz"
      },
      "source": [
        "### 1-1. 문자열이 있는 column 만 선택"
      ]
    },
    {
      "cell_type": "code",
      "execution_count": null,
      "metadata": {
        "colab": {},
        "colab_type": "code",
        "id": "oUVzlfcS2xE6"
      },
      "outputs": [],
      "source": [
        "\n"
      ]
    },
    {
      "cell_type": "code",
      "execution_count": null,
      "metadata": {
        "colab": {},
        "colab_type": "code",
        "id": "RXzN5p5v2xLw"
      },
      "outputs": [],
      "source": [
        "df.select_dtypes(exclude='object')"
      ]
    },
    {
      "cell_type": "markdown",
      "metadata": {
        "colab_type": "text",
        "id": "eWplbwl32xRa"
      },
      "source": [
        "문자열이 포함된 DataFrame의 연산으로 발생되는 Error를 피하기 위해서는..."
      ]
    },
    {
      "cell_type": "code",
      "execution_count": null,
      "metadata": {
        "colab": {},
        "colab_type": "code",
        "id": "G55gaiNv3LqB"
      },
      "outputs": [],
      "source": [
        "df + 10"
      ]
    },
    {
      "cell_type": "code",
      "execution_count": null,
      "metadata": {
        "colab": {},
        "colab_type": "code",
        "id": "VKHjGmWC3CjW"
      },
      "outputs": [],
      "source": [
        "df.select_dtypes(include='object') + 10"
      ]
    },
    {
      "cell_type": "code",
      "execution_count": null,
      "metadata": {
        "colab": {},
        "colab_type": "code",
        "id": "Wopq7Lv329lW"
      },
      "outputs": [],
      "source": [
        "df.select_dtypes(exclude='object') + 10"
      ]
    },
    {
      "cell_type": "code",
      "execution_count": null,
      "metadata": {
        "colab": {},
        "colab_type": "code",
        "id": "_VhOKNSgdsYw"
      },
      "outputs": [],
      "source": [
        "num_cols = # 코드를 입력해 주세요\n",
        "\n",
        "obj_cols = # 코드를 입력해 주세요\n"
      ]
    },
    {
      "cell_type": "code",
      "execution_count": null,
      "metadata": {
        "colab": {},
        "colab_type": "code",
        "id": "LE1CuxW43BHg"
      },
      "outputs": [],
      "source": [
        "df[obj_cols]"
      ]
    },
    {
      "cell_type": "markdown",
      "metadata": {
        "colab_type": "text",
        "id": "PXRtZOzd3R9p"
      },
      "source": [
        "## 2. 원핫인코딩 (One-hot-encoding)"
      ]
    },
    {
      "cell_type": "markdown",
      "metadata": {
        "colab_type": "text",
        "id": "QHUDXbpP3SFb"
      },
      "source": [
        "* 원핫인코딩은 한개의 요소는 True 그리고 나머지 요소는 False로 만들어 주는 기법입니다.\n",
        "* 원핫인코딩을 왜 필요할까요?"
      ]
    },
    {
      "cell_type": "code",
      "execution_count": null,
      "metadata": {
        "colab": {},
        "colab_type": "code",
        "id": "d9tR9zyUfZvb"
      },
      "outputs": [],
      "source": [
        "df = pd.read_csv('https://bit.ly/ds-korean-idol')"
      ]
    },
    {
      "cell_type": "code",
      "execution_count": null,
      "metadata": {
        "colab": {},
        "colab_type": "code",
        "id": "5d0kyLK93SO8"
      },
      "outputs": [],
      "source": [
        "df.head()"
      ]
    },
    {
      "cell_type": "code",
      "execution_count": null,
      "metadata": {
        "colab": {},
        "colab_type": "code",
        "id": "skvs-RIz32jK"
      },
      "outputs": [],
      "source": [
        "blood_map = {\n",
        "    'A': 0, \n",
        "    'B': 1,\n",
        "    'AB': 2, \n",
        "    'O': 3,\n",
        "}"
      ]
    },
    {
      "cell_type": "code",
      "execution_count": null,
      "metadata": {
        "colab": {},
        "colab_type": "code",
        "id": "R7UNjTHp3wdM"
      },
      "outputs": [],
      "source": [
        "df['혈액형_code'] = df['혈액형'].map(blood_map)"
      ]
    },
    {
      "cell_type": "code",
      "execution_count": null,
      "metadata": {
        "colab": {},
        "colab_type": "code",
        "id": "BvcIs-SR3_N4"
      },
      "outputs": [],
      "source": [
        "df.head()"
      ]
    },
    {
      "cell_type": "code",
      "execution_count": null,
      "metadata": {
        "colab": {},
        "colab_type": "code",
        "id": "KiUrinVC4Jcx"
      },
      "outputs": [],
      "source": [
        "df['혈액형_code'].value_counts()"
      ]
    },
    {
      "cell_type": "markdown",
      "metadata": {
        "colab_type": "text",
        "id": "SK14We7S4MGt"
      },
      "source": [
        "* 우리가 만약 df['혈액형_code']를 머신러닝 알고리즘에 그대로 넣어 데이터를 예측하라고 지시한다면, 컴퓨터는 '혈액형_code'안에서 **값들간의 관계를 스스로 형성**하게 됩니다.\n",
        "* 이 상황에서 만약 B형은 1, AB형은 2라는 값을 가지고 있는데, 컴퓨터는 B형 + **AB형 = O형이다라고 잘못 관계**를 맺을 수 있게 됩니다.\n",
        "* 따라서, 우리는 4개의 별도의 column을 형성해주고 1개의 column에는 True 나머지는 모두 False를 넣어 줌으로써 **A, B, AB, O형의 관계는 독립적이다**를 표현해줍니다.\n",
        "* 이를 원핫인코딩이라고 합니다.\n"
      ]
    },
    {
      "cell_type": "code",
      "execution_count": null,
      "metadata": {
        "colab": {},
        "colab_type": "code",
        "id": "YlJYkb3u5Kic"
      },
      "outputs": [],
      "source": [
        "df['혈액형_code']"
      ]
    },
    {
      "cell_type": "code",
      "execution_count": null,
      "metadata": {
        "colab": {},
        "colab_type": "code",
        "id": "ISCKIG_245XX"
      },
      "outputs": [],
      "source": [
        "pd.get_dummies(df['혈액형_code'])"
      ]
    },
    {
      "cell_type": "markdown",
      "metadata": {
        "colab_type": "text",
        "id": "ENUH3Frj5kQl"
      },
      "source": [
        "prefix를 설정하려면?"
      ]
    },
    {
      "cell_type": "code",
      "execution_count": null,
      "metadata": {
        "colab": {},
        "colab_type": "code",
        "id": "f6D-fGu_5jRK"
      },
      "outputs": [],
      "source": [
        "# 코드를 입력해 주세요\n"
      ]
    },
    {
      "cell_type": "markdown",
      "metadata": {
        "colab_type": "text",
        "id": "35wGEsjD5Ie5"
      },
      "source": [
        "나중에 머신러닝 알고리즘으로 발전하기 위해서는 꼭 알아야하는 개념입니다!\n",
        "\n",
        "지금은 원핫인코딩의 개념만 이해하셔도 충분합니다^0^"
      ]
    }
  ],
  "metadata": {
    "colab": {
      "collapsed_sections": [],
      "name": "ch02-part11-데이터전처리-실습예제6-실습",
      "provenance": []
    },
    "kernelspec": {
      "display_name": "Python 3",
      "name": "python3"
    },
    "language_info": {
      "codemirror_mode": {
        "name": "ipython",
        "version": 3
      },
      "file_extension": ".py",
      "mimetype": "text/x-python",
      "name": "python",
      "nbconvert_exporter": "python",
      "pygments_lexer": "ipython3",
      "version": "3.9.16"
    }
  },
  "nbformat": 4,
  "nbformat_minor": 0
}
